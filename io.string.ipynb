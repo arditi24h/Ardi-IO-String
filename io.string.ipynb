{
 "cells": [
  {
   "cell_type": "markdown",
   "id": "8cb8f399-f2b6-4a13-a51f-da30444dbefd",
   "metadata": {},
   "source": [
    "<h1>Biodata</h1>"
   ]
  },
  {
   "cell_type": "code",
   "execution_count": 12,
   "id": "df63827d-1977-4fe4-ba91-665806fc9d8b",
   "metadata": {},
   "outputs": [
    {
     "name": "stdin",
     "output_type": "stream",
     "text": [
      "Masukkan nama Anda:  Muhammad Ardi Madinah\n",
      "Masukan nim Anda: 20240040240\n",
      "Masukkan umur Anda:  19\n",
      "Masukkan universitas Anda:  Nusaputra\n",
      "Masukkan jurusan Anda:  Teknik Informatika\n"
     ]
    },
    {
     "name": "stdout",
     "output_type": "stream",
     "text": [
      "\n",
      "===== BIODATA =====\n",
      "Nama: Muhammad Ardi Madinah\n",
      "Nim: 20240040240\n",
      "Umur: 19 tahun\n",
      "Universitas: Nusaputra\n",
      "Jurusan: Teknik Informatika\n"
     ]
    }
   ],
   "source": [
    "nama = input(\"Masukkan nama Anda: \")\n",
    "nim = input(\"Masukan nim Anda:\")\n",
    "umur = input(\"Masukkan umur Anda: \")\n",
    "universitas = input(\"Masukkan universitas Anda: \")\n",
    "jurusan = input(\"Masukkan jurusan Anda: \")\n",
    "print(\"\\n===== BIODATA =====\")\n",
    "print(\"Nama: {}\".format(nama))\n",
    "print(\"Nim: {}\".format(nim))\n",
    "print(\"Umur: {} tahun\".format(umur))\n",
    "print(\"Universitas: {}\".format(universitas))\n",
    "print(\"Jurusan: {}\".format(jurusan))"
   ]
  },
  {
   "cell_type": "code",
   "execution_count": 33,
   "id": "374a5d97-7a0b-4fcc-a4aa-174a51ac8226",
   "metadata": {},
   "outputs": [
    {
     "name": "stdout",
     "output_type": "stream",
     "text": [
      "a. putra nusa\n",
      "b. NIVERSITAS NSA PTRA SKABMI\n",
      "c. SUKABUMI NUSA PUTRA UNIVERSITAS\n",
      "d. UNPS\n",
      "e. TAS SAPU BUMI\n"
     ]
    }
   ],
   "source": [
    "kalimat = \"UNIVERSITAS NUSA PUTRA SUKABUMI\"\n",
    "\n",
    "if kalimat == \"UNIVERSITAS NUSA PUTRA SUKABUMI\":\n",
    "    splitAndLower = kalimat.split(\" \")\n",
    "    splitAndLower = splitAndLower[1:3]\n",
    "    splitAndLower[0],splitAndLower[1] = splitAndLower[1],splitAndLower[0]\n",
    "    splitAndLower = \" \".join(splitAndLower)\n",
    "    splitAndLower = splitAndLower.lower()\n",
    "    #########################################################\n",
    "    replaceU = kalimat.replace(\"U\", \"\")\n",
    "    #########################################################\n",
    "    threeToOne = kalimat.split(\" \")\n",
    "    threeToOne[0],threeToOne[3] = threeToOne[3],threeToOne[0]\n",
    "    threeToOne = \" \".join(threeToOne)\n",
    "    #########################################################\n",
    "    firstLetter = kalimat.split(\" \")\n",
    "    firstLetter = firstLetter[0][0], firstLetter[1][0], firstLetter[2][0], firstLetter[3][0]\n",
    "    firstLetter = \"\".join(firstLetter)\n",
    "    #########################################################\n",
    "    splice = kalimat[8:11], kalimat[14:19], kalimat[27:31]\n",
    "    splice = splice[0], splice[1].replace(\" \", \"\"), splice[2]\n",
    "    splice = \" \".join(splice)\n",
    "    #########################################################\n",
    "    print(\"a.\",splitAndLower)\n",
    "    print(\"b.\",replaceU)\n",
    "    print(\"c.\",threeToOne)\n",
    "    print(\"d.\",firstLetter)\n",
    "    print(\"e.\",splice)"
   ]
  }
 ],
 "metadata": {
  "kernelspec": {
   "display_name": "Python 3 (ipykernel)",
   "language": "python",
   "name": "python3"
  },
  "language_info": {
   "codemirror_mode": {
    "name": "ipython",
    "version": 3
   },
   "file_extension": ".py",
   "mimetype": "text/x-python",
   "name": "python",
   "nbconvert_exporter": "python",
   "pygments_lexer": "ipython3",
   "version": "3.12.7"
  }
 },
 "nbformat": 4,
 "nbformat_minor": 5
}
